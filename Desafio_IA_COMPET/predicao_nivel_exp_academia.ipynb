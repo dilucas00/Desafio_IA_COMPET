{
 "cells": [
  {
   "cell_type": "markdown",
   "id": "152b4203",
   "metadata": {},
   "source": [
    "# Nível I – Carregamento, Tratamento e Modelagem Básica (Conjunto de dados de exercícios para membros de academia\n",
    ")"
   ]
  },
  {
   "cell_type": "markdown",
   "id": "de9ecf5d",
   "metadata": {},
   "source": [
    "## 1. Importar bibliotecas necessárias"
   ]
  },
  {
   "cell_type": "code",
   "execution_count": 51,
   "id": "875d0fb8",
   "metadata": {},
   "outputs": [],
   "source": [
    "import pandas as pd\n",
    "from sklearn.impute import SimpleImputer\n",
    "from sklearn.model_selection import train_test_split\n",
    "from sklearn.linear_model import LogisticRegression\n",
    "from sklearn.ensemble import RandomForestClassifier\n",
    "from sklearn.metrics import accuracy_score, classification_report\n",
    "from sklearn.preprocessing import LabelEncoder"
   ]
  },
  {
   "cell_type": "markdown",
   "id": "25e7b674",
   "metadata": {},
   "source": [
    "## 2. Carregar o CSV e selecionar colunas"
   ]
  },
  {
   "cell_type": "code",
   "execution_count": 52,
   "id": "18e2a44e",
   "metadata": {},
   "outputs": [],
   "source": [
    "df = pd.read_csv('databases/gym_members_exercise_tracking.csv')\n",
    "df = df[[\n",
    "    'Age', 'Gender', 'Weight (kg)', 'Height (m)', 'Avg_BPM',\n",
    "    'Resting_BPM', 'Session_Duration (hours)',\n",
    "    'Workout_Frequency (days/week)', 'Water_Intake (liters)',\n",
    "    'Experience_Level'\n",
    "]]"
   ]
  },
  {
   "cell_type": "markdown",
   "id": "9cc7b6e5",
   "metadata": {},
   "source": [
    "## 3. Renomear colunas para português\n",
    "\n",
    " - Age → idade  \n",
    " - Gender → sexo  \n",
    " - Weight (kg) → peso_kg  \n",
    " - Height (m) → altura_m  \n",
    " - Avg_BPM → bpm_medio  \n",
    " - Resting_BPM → bpm_repouso  \n",
    " - Session_Duration (hours) → duracao_sessao_h  \n",
    " - Workout_Frequency (days/week) → frequencia_treino  \n",
    " - Water_Intake (liters) → ingestao_agua  \n",
    " - Experience_Level → nivel_experiencia "
   ]
  },
  {
   "cell_type": "code",
   "execution_count": 53,
   "id": "6277e666",
   "metadata": {},
   "outputs": [
    {
     "data": {
      "application/vnd.microsoft.datawrangler.viewer.v0+json": {
       "columns": [
        {
         "name": "index",
         "rawType": "int64",
         "type": "integer"
        },
        {
         "name": "idade",
         "rawType": "int64",
         "type": "integer"
        },
        {
         "name": "sexo",
         "rawType": "object",
         "type": "string"
        },
        {
         "name": "peso_kg",
         "rawType": "float64",
         "type": "float"
        },
        {
         "name": "altura_m",
         "rawType": "float64",
         "type": "float"
        },
        {
         "name": "bpm_medio",
         "rawType": "int64",
         "type": "integer"
        },
        {
         "name": "bpm_repouso",
         "rawType": "int64",
         "type": "integer"
        },
        {
         "name": "duracao_sessao_h",
         "rawType": "float64",
         "type": "float"
        },
        {
         "name": "frequencia_treino",
         "rawType": "int64",
         "type": "integer"
        },
        {
         "name": "ingestao_agua",
         "rawType": "float64",
         "type": "float"
        },
        {
         "name": "nivel_experiencia",
         "rawType": "int64",
         "type": "integer"
        }
       ],
       "ref": "a3bde77e-96c2-4557-ad77-2016d1897267",
       "rows": [
        [
         "0",
         "56",
         "Male",
         "88.3",
         "1.71",
         "157",
         "60",
         "1.69",
         "4",
         "3.5",
         "3"
        ],
        [
         "1",
         "46",
         "Female",
         "74.9",
         "1.53",
         "151",
         "66",
         "1.3",
         "4",
         "2.1",
         "2"
        ],
        [
         "2",
         "32",
         "Female",
         "68.1",
         "1.66",
         "122",
         "54",
         "1.11",
         "4",
         "2.3",
         "2"
        ],
        [
         "3",
         "25",
         "Male",
         "53.2",
         "1.7",
         "164",
         "56",
         "0.59",
         "3",
         "2.1",
         "1"
        ],
        [
         "4",
         "38",
         "Male",
         "46.1",
         "1.79",
         "158",
         "68",
         "0.64",
         "3",
         "2.8",
         "1"
        ]
       ],
       "shape": {
        "columns": 10,
        "rows": 5
       }
      },
      "text/html": [
       "<div>\n",
       "<style scoped>\n",
       "    .dataframe tbody tr th:only-of-type {\n",
       "        vertical-align: middle;\n",
       "    }\n",
       "\n",
       "    .dataframe tbody tr th {\n",
       "        vertical-align: top;\n",
       "    }\n",
       "\n",
       "    .dataframe thead th {\n",
       "        text-align: right;\n",
       "    }\n",
       "</style>\n",
       "<table border=\"1\" class=\"dataframe\">\n",
       "  <thead>\n",
       "    <tr style=\"text-align: right;\">\n",
       "      <th></th>\n",
       "      <th>idade</th>\n",
       "      <th>sexo</th>\n",
       "      <th>peso_kg</th>\n",
       "      <th>altura_m</th>\n",
       "      <th>bpm_medio</th>\n",
       "      <th>bpm_repouso</th>\n",
       "      <th>duracao_sessao_h</th>\n",
       "      <th>frequencia_treino</th>\n",
       "      <th>ingestao_agua</th>\n",
       "      <th>nivel_experiencia</th>\n",
       "    </tr>\n",
       "  </thead>\n",
       "  <tbody>\n",
       "    <tr>\n",
       "      <th>0</th>\n",
       "      <td>56</td>\n",
       "      <td>Male</td>\n",
       "      <td>88.3</td>\n",
       "      <td>1.71</td>\n",
       "      <td>157</td>\n",
       "      <td>60</td>\n",
       "      <td>1.69</td>\n",
       "      <td>4</td>\n",
       "      <td>3.5</td>\n",
       "      <td>3</td>\n",
       "    </tr>\n",
       "    <tr>\n",
       "      <th>1</th>\n",
       "      <td>46</td>\n",
       "      <td>Female</td>\n",
       "      <td>74.9</td>\n",
       "      <td>1.53</td>\n",
       "      <td>151</td>\n",
       "      <td>66</td>\n",
       "      <td>1.30</td>\n",
       "      <td>4</td>\n",
       "      <td>2.1</td>\n",
       "      <td>2</td>\n",
       "    </tr>\n",
       "    <tr>\n",
       "      <th>2</th>\n",
       "      <td>32</td>\n",
       "      <td>Female</td>\n",
       "      <td>68.1</td>\n",
       "      <td>1.66</td>\n",
       "      <td>122</td>\n",
       "      <td>54</td>\n",
       "      <td>1.11</td>\n",
       "      <td>4</td>\n",
       "      <td>2.3</td>\n",
       "      <td>2</td>\n",
       "    </tr>\n",
       "    <tr>\n",
       "      <th>3</th>\n",
       "      <td>25</td>\n",
       "      <td>Male</td>\n",
       "      <td>53.2</td>\n",
       "      <td>1.70</td>\n",
       "      <td>164</td>\n",
       "      <td>56</td>\n",
       "      <td>0.59</td>\n",
       "      <td>3</td>\n",
       "      <td>2.1</td>\n",
       "      <td>1</td>\n",
       "    </tr>\n",
       "    <tr>\n",
       "      <th>4</th>\n",
       "      <td>38</td>\n",
       "      <td>Male</td>\n",
       "      <td>46.1</td>\n",
       "      <td>1.79</td>\n",
       "      <td>158</td>\n",
       "      <td>68</td>\n",
       "      <td>0.64</td>\n",
       "      <td>3</td>\n",
       "      <td>2.8</td>\n",
       "      <td>1</td>\n",
       "    </tr>\n",
       "  </tbody>\n",
       "</table>\n",
       "</div>"
      ],
      "text/plain": [
       "   idade    sexo  peso_kg  altura_m  bpm_medio  bpm_repouso  duracao_sessao_h  \\\n",
       "0     56    Male     88.3      1.71        157           60              1.69   \n",
       "1     46  Female     74.9      1.53        151           66              1.30   \n",
       "2     32  Female     68.1      1.66        122           54              1.11   \n",
       "3     25    Male     53.2      1.70        164           56              0.59   \n",
       "4     38    Male     46.1      1.79        158           68              0.64   \n",
       "\n",
       "   frequencia_treino  ingestao_agua  nivel_experiencia  \n",
       "0                  4            3.5                  3  \n",
       "1                  4            2.1                  2  \n",
       "2                  4            2.3                  2  \n",
       "3                  3            2.1                  1  \n",
       "4                  3            2.8                  1  "
      ]
     },
     "execution_count": 53,
     "metadata": {},
     "output_type": "execute_result"
    }
   ],
   "source": [
    "df = df.rename(columns={\n",
    "    'Age': 'idade',\n",
    "    'Gender': 'sexo',\n",
    "    'Weight (kg)': 'peso_kg',\n",
    "    'Height (m)': 'altura_m',\n",
    "    'Avg_BPM': 'bpm_medio',\n",
    "    'Resting_BPM': 'bpm_repouso',\n",
    "    'Session_Duration (hours)': 'duracao_sessao_h',\n",
    "    'Workout_Frequency (days/week)': 'frequencia_treino',\n",
    "    'Water_Intake (liters)': 'ingestao_agua',\n",
    "    'Experience_Level': 'nivel_experiencia'\n",
    "})\n",
    "df.head()"
   ]
  },
  {
   "cell_type": "markdown",
   "id": "4fee3e19",
   "metadata": {},
   "source": [
    " ## 4. Verificar e imputar valores faltantes"
   ]
  },
  {
   "cell_type": "code",
   "execution_count": 55,
   "id": "60cac6b1",
   "metadata": {},
   "outputs": [],
   "source": [
    "imputador = SimpleImputer(strategy='median')\n",
    "col_num = [\n",
    "    'idade','peso_kg','altura_m','bpm_medio','bpm_repouso',\n",
    "    'duracao_sessao_h','frequencia_treino','ingestao_agua'\n",
    "]\n",
    "df[col_num] = imputador.fit_transform(df[col_num])"
   ]
  },
  {
   "cell_type": "markdown",
   "id": "836a0ec7",
   "metadata": {},
   "source": [
    "## 5. Codificar variáveis categóricas\n",
    "\n",
    " - `sexo`: Masculino/Feminino → 0/1  \n",
    " - `nivel_experiencia`: Beginner/Intermediate/Advanced → 0/1/2  "
   ]
  },
  {
   "cell_type": "code",
   "execution_count": 56,
   "id": "59fcbcd3",
   "metadata": {},
   "outputs": [],
   "source": [
    "le_sexo = LabelEncoder()\n",
    "df['sexo'] = le_sexo.fit_transform(df['sexo'])\n",
    "\n",
    "le_nivel = LabelEncoder()\n",
    "df['nivel_codigo'] = le_nivel.fit_transform(df['nivel_experiencia'])"
   ]
  },
  {
   "cell_type": "markdown",
   "id": "d0ea7ea9",
   "metadata": {},
   "source": [
    "## 6. Preparar X e y, e dividir em treino e teste"
   ]
  },
  {
   "cell_type": "code",
   "execution_count": 57,
   "id": "7bbcf76c",
   "metadata": {},
   "outputs": [],
   "source": [
    "X = df[col_num + ['sexo']]\n",
    "y = df['nivel_codigo']\n",
    "\n",
    "X_treino, X_teste, y_treino, y_teste = train_test_split(\n",
    "    X, y, test_size=0.2, random_state=42, stratify=y\n",
    ")"
   ]
  },
  {
   "cell_type": "markdown",
   "id": "bd724a68",
   "metadata": {},
   "source": [
    "## 7. Treinar e avaliar modelos dois modelos"
   ]
  },
  {
   "cell_type": "code",
   "execution_count": 59,
   "id": "a3d5d847",
   "metadata": {},
   "outputs": [
    {
     "name": "stdout",
     "output_type": "stream",
     "text": [
      "\n",
      ">>> Regressão Logística\n",
      "Acurácia: 0.8256\n",
      "              precision    recall  f1-score   support\n",
      "\n",
      "           0       0.74      0.92      0.82        75\n",
      "           1       0.89      0.67      0.76        82\n",
      "           2       0.93      0.97      0.95        38\n",
      "\n",
      "    accuracy                           0.83       195\n",
      "   macro avg       0.85      0.85      0.84       195\n",
      "weighted avg       0.84      0.83      0.82       195\n",
      "\n",
      "\n",
      ">>> Random Forest\n",
      "Acurácia: 0.8769\n",
      "              precision    recall  f1-score   support\n",
      "\n",
      "           0       0.85      0.83      0.84        75\n",
      "           1       0.85      0.87      0.86        82\n",
      "           2       1.00      1.00      1.00        38\n",
      "\n",
      "    accuracy                           0.88       195\n",
      "   macro avg       0.90      0.90      0.90       195\n",
      "weighted avg       0.88      0.88      0.88       195\n",
      "\n"
     ]
    }
   ],
   "source": [
    "modelos = {\n",
    "    'Regressão Logística': LogisticRegression(solver='liblinear', max_iter=2000, random_state=42),\n",
    "    'Random Forest': RandomForestClassifier(n_estimators=100, random_state=42)\n",
    "}\n",
    "\n",
    "for nome, mdl in modelos.items():\n",
    "    mdl.fit(X_treino, y_treino)\n",
    "    preds = mdl.predict(X_teste)\n",
    "    print(f\"\\n>>> {nome}\")\n",
    "    print(f\"Acurácia: {accuracy_score(y_teste, preds):.4f}\")\n",
    "    print(classification_report(y_teste, preds))"
   ]
  },
  {
   "cell_type": "markdown",
   "id": "0e45c183",
   "metadata": {},
   "source": [
    "# Nível II – Avaliação Repetida, Salvamento e Interface"
   ]
  },
  {
   "cell_type": "code",
   "execution_count": 60,
   "id": "e3b500b2",
   "metadata": {},
   "outputs": [],
   "source": [
    "import numpy as np\n",
    "import pickle\n",
    "import gradio as gr\n"
   ]
  },
  {
   "cell_type": "markdown",
   "id": "77cf94ec",
   "metadata": {},
   "source": [
    "## 8. Avaliar em 30 repetições"
   ]
  },
  {
   "cell_type": "code",
   "execution_count": 61,
   "id": "94899cc0",
   "metadata": {},
   "outputs": [],
   "source": [
    "resultados = {'RegLog': [], 'RF': []}\n",
    "for i in range(30):\n",
    "    X_tr, X_ts, y_tr, y_ts = train_test_split(\n",
    "        X, y, test_size=0.2, random_state=i, stratify=y)\n",
    "    modelos['Regressão Logística'].fit(X_tr, y_tr)\n",
    "    modelos['Random Forest'].fit(X_tr, y_tr)\n",
    "    resultados['RegLog'].append(accuracy_score(y_ts, modelos['Regressão Logística'].predict(X_ts)))\n",
    "    resultados['RF'].append(accuracy_score(y_ts, modelos['Random Forest'].predict(X_ts)))"
   ]
  },
  {
   "cell_type": "markdown",
   "id": "cc1a8fce",
   "metadata": {},
   "source": [
    "## 9. Mostrar média e desvio-padrão"
   ]
  },
  {
   "cell_type": "code",
   "execution_count": 62,
   "id": "119b0d0d",
   "metadata": {},
   "outputs": [
    {
     "name": "stdout",
     "output_type": "stream",
     "text": [
      "RegLog: média=0.8067, std=0.0255\n",
      "RF: média=0.8827, std=0.0180\n"
     ]
    }
   ],
   "source": [
    "for nome, vals in resultados.items():\n",
    "    print(f\"{nome}: média={np.mean(vals):.4f}, std={np.std(vals, ddof=1):.4f}\")"
   ]
  },
  {
   "cell_type": "markdown",
   "id": "ae7f59ab",
   "metadata": {},
   "source": [
    "## 10. Salvar o melhor modelo"
   ]
  },
  {
   "cell_type": "code",
   "execution_count": 63,
   "id": "2ac7250e",
   "metadata": {},
   "outputs": [
    {
     "name": "stdout",
     "output_type": "stream",
     "text": [
      "Melhor modelo: Random Forest\n"
     ]
    }
   ],
   "source": [
    "media_reg = np.mean(resultados['RegLog'])\n",
    "media_rf  = np.mean(resultados['RF'])\n",
    "best_name = 'Regressão Logística' if media_reg >= media_rf else 'Random Forest'\n",
    "mdl_melhor = modelos[best_name]\n",
    "mdl_melhor.fit(X, y)\n",
    "\n",
    "with open('melhor_modelo_gym.pkl','wb') as f:\n",
    "    pickle.dump((mdl_melhor, le_nivel), f)\n",
    "print(f\"Melhor modelo: {best_name}\")"
   ]
  },
  {
   "cell_type": "markdown",
   "id": "7fb0220e",
   "metadata": {},
   "source": [
    "## 11. Interface Gradio"
   ]
  },
  {
   "cell_type": "code",
   "execution_count": 67,
   "id": "60cee301",
   "metadata": {},
   "outputs": [
    {
     "name": "stdout",
     "output_type": "stream",
     "text": [
      "* Running on local URL:  http://127.0.0.1:7864\n",
      "* To create a public link, set `share=True` in `launch()`.\n"
     ]
    },
    {
     "data": {
      "text/html": [
       "<div><iframe src=\"http://127.0.0.1:7864/\" width=\"100%\" height=\"500\" allow=\"autoplay; camera; microphone; clipboard-read; clipboard-write;\" frameborder=\"0\" allowfullscreen></iframe></div>"
      ],
      "text/plain": [
       "<IPython.core.display.HTML object>"
      ]
     },
     "metadata": {},
     "output_type": "display_data"
    },
    {
     "data": {
      "text/plain": []
     },
     "execution_count": 67,
     "metadata": {},
     "output_type": "execute_result"
    },
    {
     "name": "stderr",
     "output_type": "stream",
     "text": [
      "c:\\Users\\delom\\Desktop\\Programação\\Desafio_IA_COMPET\\.venv\\Lib\\site-packages\\sklearn\\utils\\validation.py:2739: UserWarning: X does not have valid feature names, but RandomForestClassifier was fitted with feature names\n",
      "  warnings.warn(\n",
      "c:\\Users\\delom\\Desktop\\Programação\\Desafio_IA_COMPET\\.venv\\Lib\\site-packages\\sklearn\\utils\\validation.py:2739: UserWarning: X does not have valid feature names, but RandomForestClassifier was fitted with feature names\n",
      "  warnings.warn(\n",
      "c:\\Users\\delom\\Desktop\\Programação\\Desafio_IA_COMPET\\.venv\\Lib\\site-packages\\sklearn\\utils\\validation.py:2739: UserWarning: X does not have valid feature names, but RandomForestClassifier was fitted with feature names\n",
      "  warnings.warn(\n"
     ]
    },
    {
     "name": "stdout",
     "output_type": "stream",
     "text": [
      "Using existing dataset file at: .gradio\\flagged\\dataset1.csv\n"
     ]
    }
   ],
   "source": [
    "import numpy as np\n",
    "import gradio as gr\n",
    "\n",
    "def prever_experiencia(idade, peso_kg, altura_m, bpm_medio, bpm_repouso,\n",
    "                       duracao_sessao_h, frequencia_treino, ingestao_agua, sexo_str):\n",
    "    # Converte o sexo de string (\"Male\", \"Female\") para código (0 ou 1)\n",
    "    sexo_codigo = le_sexo.transform([sexo_str])[0]\n",
    "    \n",
    "    # Monta o array de entrada na mesma ordem usada no treinamento\n",
    "    entrada = np.array([[idade, peso_kg, altura_m, bpm_medio, bpm_repouso,\n",
    "                         duracao_sessao_h, frequencia_treino, ingestao_agua, sexo_codigo]])\n",
    "    \n",
    "    # Faz a predição\n",
    "    pred_codigo = mdl_melhor.predict(entrada)[0]\n",
    "    \n",
    "    # Converte o código de volta para o rótulo original (ex: \"Beginner\")\n",
    "    mapeamento_nivel = {0: 'Beginner', 1: 'Intermediate', 2: 'Advanced'}\n",
    "    return mapeamento_nivel.get(pred_codigo, f\"Desconhecido: {pred_codigo}\")\n",
    "\n",
    "\n",
    "# Interface com Gradio\n",
    "iface = gr.Interface(\n",
    "    fn=prever_experiencia,\n",
    "    inputs=[\n",
    "        gr.Number(label=\"Idade\"),\n",
    "        gr.Number(label=\"Peso (kg)\"),\n",
    "        gr.Number(label=\"Altura (m)\"),\n",
    "        gr.Number(label=\"BPM Médio\"),\n",
    "        gr.Number(label=\"BPM Repouso\"),\n",
    "        gr.Number(label=\"Duração Sessão (h)\"),\n",
    "        gr.Number(label=\"Freq. Treino (dias/sem)\"),\n",
    "        gr.Number(label=\"Ingestão de Água (L)\"),\n",
    "        gr.Radio(choices=list(le_sexo.classes_), label=\"Sexo\")  # Usa os nomes reais: 'Male', 'Female'\n",
    "    ],\n",
    "    outputs=gr.Textbox(label=\"Nível de Experiência\"),\n",
    "    title=\"Predição de Nível de Experiência na Academia\",\n",
    "    description=\"Informe os dados de um membro da academia para prever se ele é Beginner, Intermediate ou Advanced.\"\n",
    ")\n",
    "\n",
    "iface.launch()\n"
   ]
  },
  {
   "cell_type": "markdown",
   "id": "2c1bfdfa",
   "metadata": {},
   "source": [
    "## Tabela com exemplos de dados para teste\n",
    "\n",
    "| Caso              | Idade | Peso (kg) | Altura (m) | BPM Médio | BPM Repouso | Duração Sessão (h) | Freq. Treino (dias/sem) | Ingestão de Água (L) | Sexo      | Saída Esperada |\n",
    "| ----------------- | ----- | --------- | ---------- | --------- | ----------- | ------------------ | ----------------------- | -------------------- | --------- | -------------- |\n",
    "| **Iniciante**     | 22    | 68        | 1.75       | 110       | 70          | 0.75               | 2                       | 1.2                  | Feminino  | Beginner       |\n",
    "| **Intermediário** | 30    | 80        | 1.80       | 120       | 65          | 1.0                | 4                       | 2.0                  | Masculino | Intermediate   |\n",
    "| **Avançado**      | 28    | 75        | 1.78       | 130       | 60          | 1.5                | 6                       | 2.5                  | Masculino | Advanced       |\n",
    "| **Veterano**      | 40    | 85        | 1.70       | 125       | 62          | 1.25               | 5                       | 2.0                  | Feminino  | Advanced       |\n"
   ]
  },
  {
   "cell_type": "markdown",
   "id": "d1bc5c47",
   "metadata": {},
   "source": []
  }
 ],
 "metadata": {
  "language_info": {
   "name": "python"
  }
 },
 "nbformat": 4,
 "nbformat_minor": 5
}
